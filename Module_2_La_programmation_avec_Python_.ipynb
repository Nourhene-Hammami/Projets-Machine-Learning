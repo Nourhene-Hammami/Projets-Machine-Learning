{
  "nbformat": 4,
  "nbformat_minor": 0,
  "metadata": {
    "colab": {
      "provenance": []
    },
    "kernelspec": {
      "name": "python3",
      "display_name": "Python 3"
    },
    "language_info": {
      "name": "python"
    }
  },
  "cells": [
    {
      "cell_type": "code",
      "execution_count": 1,
      "metadata": {
        "id": "81yjO94HjHZZ",
        "colab": {
          "base_uri": "https://localhost:8080/"
        },
        "outputId": "dc2df7a7-3325-4640-a6f9-c52d3fd4db34"
      },
      "outputs": [
        {
          "output_type": "stream",
          "name": "stdout",
          "text": [
            "Veuillez entrer le rayon de la base du cône (en unités): 2\n",
            "Veuillez entrer la hauteur du cône (en unités): 2\n",
            "Le volume du cône est: 8.38 unités cubiques\n"
          ]
        }
      ],
      "source": [
        " #Exercice N° 1\n",
        "import math\n",
        "\n",
        "def calculer_volume_cone():\n",
        "    try:\n",
        "        # Demander à l'utilisateur de saisir le rayon et la hauteur\n",
        "        rayon = float(input(\"Veuillez entrer le rayon de la base du cône (en unités): \"))\n",
        "        if rayon <= 0 :\n",
        "          print(\"Le rayon doit être des valeurs positives.\")\n",
        "          return\n",
        "\n",
        "        hauteur = float(input(\"Veuillez entrer la hauteur du cône (en unités): \"))\n",
        "        if rayon <= 0:\n",
        "          print(\"Le rayon doit être des valeurs positives.\")\n",
        "          return\n",
        "\n",
        "        # Calculer le volume du cône\n",
        "        volume = (1/3) * math.pi * rayon**2 * hauteur\n",
        "\n",
        "        # Afficher le résultat\n",
        "        print(f\"Le volume du cône est: {volume:.2f} unités cubiques\")\n",
        "\n",
        "    except ValueError:\n",
        "        print(\"Veuillez entrer des nombres valides.\")\n",
        "\n",
        "# Appeler la fonction pour exécuter le programme\n",
        "calculer_volume_cone()\n",
        "\n"
      ]
    },
    {
      "cell_type": "code",
      "source": [
        "#Exercice N° 2\n",
        "def calculer_prix_ttc():\n",
        "    TVA_COEFFICIENT = 1.179\n",
        "\n",
        "    while True:\n",
        "        try:\n",
        "            # Demander à l'utilisateur de saisir le prix HT\n",
        "            prix_ht = float(input(\"Veuillez entrer le prix HT du produit (entrez 0 pour terminer): \"))\n",
        "\n",
        "            # Vérifier si l'utilisateur souhaite terminer le programme\n",
        "            if prix_ht == 0:\n",
        "                print(\"Programme terminé.\")\n",
        "                break\n",
        "            elif prix_ht > 0:\n",
        "                # Calculer le prix TTC\n",
        "                prix_ttc = prix_ht * TVA_COEFFICIENT\n",
        "\n",
        "                # Afficher le résultat\n",
        "                print(f\"Le prix TTC du produit est: {prix_ttc:.2f} unités\")\n",
        "            else:\n",
        "                print(\"Veuillez entrer un nombre positif.\")\n",
        "\n",
        "        except ValueError:\n",
        "            print(\"Veuillez entrer un nombre valide.\")\n",
        "\n",
        "# Appeler la fonction pour exécuter le programme\n",
        "calculer_prix_ttc()\n"
      ],
      "metadata": {
        "colab": {
          "base_uri": "https://localhost:8080/"
        },
        "id": "GxT49tuwoOXS",
        "outputId": "2055b75d-f8da-4914-d701-fe968fdc1be9"
      },
      "execution_count": null,
      "outputs": [
        {
          "output_type": "stream",
          "name": "stdout",
          "text": [
            "Veuillez entrer le prix HT du produit (entrez 0 pour terminer): -9\n",
            "Veuillez entrer un nombre positif.\n",
            "Veuillez entrer le prix HT du produit (entrez 0 pour terminer): 8\n",
            "Le prix TTC du produit est: 9.43 unités\n",
            "Veuillez entrer le prix HT du produit (entrez 0 pour terminer): 0\n",
            "Programme terminé.\n"
          ]
        }
      ]
    },
    {
      "cell_type": "code",
      "source": [
        "#Execice 3\n",
        "def calculer_somme_et_compter():\n",
        "    somme = 0\n",
        "    compteur_sup_100 = 0\n",
        "\n",
        "    while True:\n",
        "        try:\n",
        "            # Demander à l'utilisateur de saisir un nombre\n",
        "            nombre = float(input(\"Veuillez entrer un nombre positif (entrez 0 pour terminer): \"))\n",
        "\n",
        "            # Vérifier si l'utilisateur souhaite terminer le programme\n",
        "            if nombre == 0:\n",
        "                print(\"Saisie terminée.\")\n",
        "                break\n",
        "            elif nombre > 0:\n",
        "                # Ajouter le nombre à la somme\n",
        "                somme += nombre\n",
        "\n",
        "                # Vérifier si le nombre est supérieur ou égal à 100\n",
        "                if nombre >= 100:\n",
        "                    compteur_sup_100 += 1\n",
        "            else:\n",
        "                print(\"Veuillez entrer un nombre positif.\")\n",
        "\n",
        "        except ValueError:\n",
        "            print(\"Veuillez entrer un nombre valide.\")\n",
        "\n",
        "    # Afficher les résultats\n",
        "    print(f\"La somme des nombres saisis est: {somme:.2f}\")\n",
        "    print(f\"Le nombre de valeurs supérieures ou égales à 100 est: {compteur_sup_100}\")\n",
        "\n",
        "# Appeler la fonction pour exécuter le programme\n",
        "calculer_somme_et_compter()"
      ],
      "metadata": {
        "id": "9MUVl-hcpClv",
        "colab": {
          "base_uri": "https://localhost:8080/"
        },
        "outputId": "c6071a4e-4160-45c9-c554-b357dfd6f1ac"
      },
      "execution_count": null,
      "outputs": [
        {
          "output_type": "stream",
          "name": "stdout",
          "text": [
            "Veuillez entrer un nombre positif (entrez 0 pour terminer): 100\n",
            "Veuillez entrer un nombre positif (entrez 0 pour terminer): 5\n",
            "Veuillez entrer un nombre positif (entrez 0 pour terminer): 0\n",
            "Saisie terminée.\n",
            "La somme des nombres saisis est: 105.00\n",
            "Le nombre de valeurs supérieures ou égales à 100 est: 1\n"
          ]
        }
      ]
    },
    {
      "cell_type": "code",
      "source": [
        "#Exercice 4\n",
        "def verifier_pair_ou_impair():\n",
        "    while True:\n",
        "        try:\n",
        "            # Demander à l'utilisateur de saisir un entier positif\n",
        "            n = int(input(\"Veuillez entrer un entier positif (entrez 0 pour terminer): \"))\n",
        "\n",
        "            # Vérifier si l'utilisateur souhaite terminer le programme\n",
        "            if n == 0:\n",
        "                print(\"Programme terminé.\")\n",
        "                break\n",
        "            elif n > 0:\n",
        "                # Vérifier si l'entier est pair ou impair\n",
        "                if n % 2 == 0:\n",
        "                    print(f\"{n} est PAIR.\")\n",
        "                else:\n",
        "                    print(f\"{n} est IMPAIR.\")\n",
        "            else:\n",
        "                print(\"Veuillez entrer un entier positif.\")\n",
        "\n",
        "        except ValueError:\n",
        "            print(\"Veuillez entrer un entier valide.\")\n",
        "\n",
        "# Appeler la fonction pour exécuter le programme\n",
        "verifier_pair_ou_impair()"
      ],
      "metadata": {
        "colab": {
          "base_uri": "https://localhost:8080/"
        },
        "id": "rDqCNQMlPJmT",
        "outputId": "e7b8a0da-3c28-4c28-c568-07ff77df94cd"
      },
      "execution_count": 3,
      "outputs": [
        {
          "output_type": "stream",
          "name": "stdout",
          "text": [
            "Veuillez entrer un entier positif (entrez 0 pour terminer): 5\n",
            "5 est IMPAIR.\n",
            "Veuillez entrer un entier positif (entrez 0 pour terminer): 10\n",
            "10 est PAIR.\n",
            "Veuillez entrer un entier positif (entrez 0 pour terminer): 0\n",
            "Programme terminé.\n"
          ]
        }
      ]
    },
    {
      "cell_type": "code",
      "source": [
        "#Exercice 5\n",
        "def compter_divisions_par_2():\n",
        "    try:\n",
        "        # Demander à l'utilisateur de saisir un entier positif\n",
        "        n = int(input(\"Veuillez entrer un entier positif: \"))\n",
        "\n",
        "        if n <= 0:\n",
        "            print(\"Veuillez entrer un entier positif supérieur à 0.\")\n",
        "            return\n",
        "\n",
        "        compteur = 0\n",
        "\n",
        "        # Boucle pour diviser n par 2 tant qu'il est pair\n",
        "        while n % 2 == 0:\n",
        "            n //= 2\n",
        "            compteur += 1\n",
        "\n",
        "        # Afficher le résultat\n",
        "        print(f\"L'entier est divisible par 2, {compteur} fois de suite.\")\n",
        "\n",
        "    except ValueError:\n",
        "        print(\"Veuillez entrer un entier valide.\")\n",
        "\n",
        "# Appeler la fonction pour exécuter le programme\n",
        "compter_divisions_par_2()"
      ],
      "metadata": {
        "id": "TKxdK2q6MF6B",
        "colab": {
          "base_uri": "https://localhost:8080/"
        },
        "outputId": "1ec84824-036c-4131-fbf0-981878b98aa7"
      },
      "execution_count": 4,
      "outputs": [
        {
          "output_type": "stream",
          "name": "stdout",
          "text": [
            "Veuillez entrer un entier positif: 10\n",
            "L'entier est divisible par 2, 1 fois de suite.\n"
          ]
        }
      ]
    },
    {
      "cell_type": "code",
      "source": [
        "#Exercice 6\n",
        "def trouver_diviseurs_propres(n):\n",
        "    diviseurs = []\n",
        "\n",
        "    # Chercher les diviseurs propres de 2 jusqu'à n//2\n",
        "    for i in range(2, n // 2 + 1):\n",
        "        if n % i == 0:\n",
        "            diviseurs.append(i)\n",
        "\n",
        "    return diviseurs\n",
        "\n",
        "def main():\n",
        "    try:\n",
        "        # Demander à l'utilisateur de saisir un entier supérieur à 1\n",
        "        n = int(input(\"Entrez un entier strictement positif supérieur à 1 : \"))\n",
        "\n",
        "        if n <= 1:\n",
        "            print(\"Veuillez entrer un entier strictement supérieur à 1.\")\n",
        "            return\n",
        "\n",
        "        # Trouver les diviseurs propres de n\n",
        "        diviseurs = trouver_diviseurs_propres(n)\n",
        "\n",
        "        if diviseurs:\n",
        "            # Afficher les diviseurs propres\n",
        "            diviseurs_str = \" \".join(map(str, diviseurs))\n",
        "            print(f\"Diviseurs propres sans répétition de {n} : {diviseurs_str} (soit {len(diviseurs)} diviseurs propres)\")\n",
        "        else:\n",
        "            # Indiquer que le nombre est premier\n",
        "            print(f\"Diviseurs propres sans répétition de {n} : aucun ! Il est premier\")\n",
        "\n",
        "    except ValueError:\n",
        "        print(\"Veuillez entrer un entier valide.\")\n",
        "\n",
        "# Appeler la fonction principale pour exécuter le programme\n",
        "main()\n",
        "\n"
      ],
      "metadata": {
        "id": "nHMvU7QZLlxJ",
        "colab": {
          "base_uri": "https://localhost:8080/"
        },
        "outputId": "1ad26863-1a5b-49cd-e92c-5c4dc0198ec4"
      },
      "execution_count": 5,
      "outputs": [
        {
          "output_type": "stream",
          "name": "stdout",
          "text": [
            "Entrez un entier strictement positif supérieur à 1 : 13\n",
            "Diviseurs propres sans répétition de 13 : aucun ! Il est premier\n"
          ]
        }
      ]
    },
    {
      "cell_type": "code",
      "source": [
        "#Exercice 7\n",
        "def quiz_game():\n",
        "    questions = [\n",
        "        (\"Combien de fois la France a gagné la coupe du monde\", 2),\n",
        "        (\"Quand a été fondé Apple\", 1976),\n",
        "        (\"Qui a fondé SpaceX\", \"elon musk\")\n",
        "    ]\n",
        "\n",
        "    chances = 4\n",
        "\n",
        "    for question, correct_answer in questions:\n",
        "        while True:\n",
        "            # Afficher la question\n",
        "            user_answer = input(f\"{question} ? \")\n",
        "\n",
        "            # Convertir la réponse en entier si la réponse correcte est un nombre\n",
        "            if isinstance(correct_answer, int):\n",
        "                try:\n",
        "                    user_answer = int(user_answer)\n",
        "                except ValueError:\n",
        "                    print(\"Veuillez entrer une réponse valide.\")\n",
        "                    continue\n",
        "\n",
        "            # Convertir la réponse en minuscule si la réponse correcte est une chaîne de caractères\n",
        "            if isinstance(correct_answer, str):\n",
        "                user_answer = user_answer.lower()\n",
        "\n",
        "            # Vérifier si la réponse est correcte\n",
        "            if user_answer == correct_answer:\n",
        "                print(\"Bonne réponse !\")\n",
        "                break\n",
        "            else:\n",
        "                chances -= 1\n",
        "                if chances == 0:\n",
        "                    print(\"Vous avez épuisé toutes vos chances. Jeu terminé.\")\n",
        "                    return\n",
        "                else:\n",
        "                    print(f\"Mauvaise réponse. Il vous reste {chances} tentatives.\")\n",
        "\n",
        "    print(\"Félicitations ! Vous avez répondu correctement à toutes les questions.\")\n",
        "\n",
        "# Appeler la fonction pour démarrer le jeu\n",
        "quiz_game()\n"
      ],
      "metadata": {
        "id": "hqs0OvarM0Tf",
        "colab": {
          "base_uri": "https://localhost:8080/"
        },
        "outputId": "7ba80611-19e6-4517-d8aa-1e56c1728df9"
      },
      "execution_count": 6,
      "outputs": [
        {
          "output_type": "stream",
          "name": "stdout",
          "text": [
            "Combien de fois la France a gagné la coupe du monde ? 2\n",
            "Bonne réponse !\n",
            "Quand a été fondé Apple ? 1085\n",
            "Mauvaise réponse. Il vous reste 3 tentatives.\n",
            "Quand a été fondé Apple ? 1286\n",
            "Mauvaise réponse. Il vous reste 2 tentatives.\n",
            "Quand a été fondé Apple ? 2010\n",
            "Mauvaise réponse. Il vous reste 1 tentatives.\n",
            "Quand a été fondé Apple ? 1478\n",
            "Vous avez épuisé toutes vos chances. Jeu terminé.\n"
          ]
        }
      ]
    }
  ]
}