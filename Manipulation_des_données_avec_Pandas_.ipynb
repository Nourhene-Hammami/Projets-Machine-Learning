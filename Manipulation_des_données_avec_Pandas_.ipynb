{
  "nbformat": 4,
  "nbformat_minor": 0,
  "metadata": {
    "colab": {
      "provenance": []
    },
    "kernelspec": {
      "name": "python3",
      "display_name": "Python 3"
    },
    "language_info": {
      "name": "python"
    }
  },
  "cells": [
    {
      "cell_type": "markdown",
      "source": [
        "**Etape 1 : Mise en place et installation de l’environnement**"
      ],
      "metadata": {
        "id": "XitNHhMBAtG5"
      }
    },
    {
      "cell_type": "code",
      "execution_count": null,
      "metadata": {
        "colab": {
          "base_uri": "https://localhost:8080/"
        },
        "id": "U830fU7XAQi_",
        "outputId": "f7a5d027-dc08-4fef-b82f-37a90fafa338"
      },
      "outputs": [
        {
          "output_type": "stream",
          "name": "stdout",
          "text": [
            "Version: 2.0.3\n",
            "Requirement already satisfied: openpyxl in /usr/local/lib/python3.10/dist-packages (3.1.5)\n",
            "Requirement already satisfied: et-xmlfile in /usr/local/lib/python3.10/dist-packages (from openpyxl) (1.1.0)\n"
          ]
        }
      ],
      "source": [
        "#1\n",
        "!pip show pandas | grep Version\n",
        "\n",
        "\n",
        "!pip install openpyxl"
      ]
    },
    {
      "cell_type": "code",
      "source": [
        "#2\n",
        "import pandas as pd\n"
      ],
      "metadata": {
        "id": "yHNt30wGBE9P"
      },
      "execution_count": null,
      "outputs": []
    },
    {
      "cell_type": "markdown",
      "source": [
        "**Etape 2 : Importer les données dans une dataframe**"
      ],
      "metadata": {
        "id": "ng0ytS8VCCMj"
      }
    },
    {
      "cell_type": "code",
      "source": [
        "#3\n",
        "df = pd.read_excel('base.xlsx')\n"
      ],
      "metadata": {
        "id": "095nHy16CA6k"
      },
      "execution_count": null,
      "outputs": []
    },
    {
      "cell_type": "code",
      "source": [
        "#4\n",
        "print(df.head(10))"
      ],
      "metadata": {
        "colab": {
          "base_uri": "https://localhost:8080/"
        },
        "id": "20ATbnBdMKfr",
        "outputId": "bfaf884b-10ae-423a-db90-16fa952fcd6f"
      },
      "execution_count": 7,
      "outputs": [
        {
          "output_type": "stream",
          "name": "stdout",
          "text": [
            "                  Client CategorieTarifaireClient  \\\n",
            "0          Carat S.a.r.l               Grossistes   \n",
            "1     Rubis sur Longleux               Grossistes   \n",
            "2                  Opale               Grossistes   \n",
            "3        Grenat pour toi              Détaillants   \n",
            "4           Directy Sarl              Détaillants   \n",
            "5     Perles parisiennes               Grossistes   \n",
            "6           Diamant Vert               Grossistes   \n",
            "7            Emeraude SA              Détaillants   \n",
            "8         Platine & fils              Détaillants   \n",
            "9  La Montre du Quartier              Détaillants   \n",
            "\n",
            "                                       Famille  Representant  \\\n",
            "0                     BIJOUXOR - Bijouterie Or             9   \n",
            "1                                          NaN             9   \n",
            "2                     BIJOUXOR - Bijouterie Or             6   \n",
            "3                     BIJOUXOR - Bijouterie Or             6   \n",
            "4                        MONTREBW - Montres BW            10   \n",
            "5                     BIJOUXOR - Bijouterie Or             9   \n",
            "6                     BIJOUXOR - Bijouterie Or            10   \n",
            "7                     BIJOUXOR - Bijouterie Or            10   \n",
            "8  PRESTLOC - Prestation de location de bijoux             6   \n",
            "9  PRESTLOC - Prestation de location de bijoux             9   \n",
            "\n",
            "                                          Article    Piece  MontantHT  \\\n",
            "0                                             NaN  FA03008    19051.2   \n",
            "1                  X2ROUAGE - Rouage mécanisme BW  FA03064     1980.0   \n",
            "2                        CHFE01 - Fermoir cliquet  FA01066      189.0   \n",
            "3                        CHFE01 - Fermoir cliquet  FA00349      189.0   \n",
            "4    X1BRACBAR - Barrette pour Bracelet montre BW  FA00202      150.0   \n",
            "5                        CHFE01 - Fermoir cliquet  FA19061      189.0   \n",
            "6                        CHFE01 - Fermoir cliquet  FA19055      189.0   \n",
            "7                        CHFE01 - Fermoir cliquet  FA19057      189.0   \n",
            "8  LOCPARURE - Location de parure or et émeraudes  FA03040     3045.0   \n",
            "9  LOCPARURE - Location de parure or et émeraudes  FA00801     3045.0   \n",
            "\n",
            "   QteVendues   Marge        ExerciceComptable  ...  TVA      Pays  \\\n",
            "0         NaN  9979.2  du 01/01/17 au 31/12/17  ...  0.0    France   \n",
            "1        22.0   990.0        EXERCICE INDéFINI  ...  0.0  Belgique   \n",
            "2        15.0    99.0  du 01/01/17 au 31/12/17  ...  0.0    Suisse   \n",
            "3        15.0    99.0  du 01/01/17 au 31/12/17  ...  0.0    France   \n",
            "4       100.0    99.0  du 01/01/17 au 31/12/17  ...  0.0    France   \n",
            "5        15.0    99.0        EXERCICE INDéFINI  ...  0.0    France   \n",
            "6        15.0    99.0        EXERCICE INDéFINI  ...  0.0    France   \n",
            "7        15.0    99.0        EXERCICE INDéFINI  ...  0.0    France   \n",
            "8        21.0   987.0        EXERCICE INDéFINI  ...  0.0    France   \n",
            "9        21.0   987.0  du 01/01/17 au 31/12/17  ...  0.0    France   \n",
            "\n",
            "                    Region MontantBrut                     Date  CodeClient  \\\n",
            "0                      NaN    22861.44  2017-07-11 00:00:00.000       CARAT   \n",
            "1       Bruxelles-Capitale     1980.00  2018-08-20 00:00:00.000       RUBIS   \n",
            "2              Les Grisons      189.00  2017-08-09 00:00:00.000       OPALE   \n",
            "3       Nouvelle-Aquitaine      226.80  2017-08-06 00:00:00.000       GRENA   \n",
            "4                Occitanie      180.00  2017-03-27 00:00:00.000     DIRECTY   \n",
            "5         Pays de la Loire      226.80  2019-08-13 00:00:00.000       PERLE   \n",
            "6         Pays de la Loire      226.80  2019-07-27 00:00:00.000       DIAMA   \n",
            "7         Pays de la Loire      226.80  2019-08-01 00:00:00.000       EMERA   \n",
            "8  Bourgogne-Franche-Comté     3654.00  2018-06-20 00:00:00.000       PLATI   \n",
            "9                    Corse     3654.00  2017-06-22 00:00:00.000       QUART   \n",
            "\n",
            "   Document CatalogueArticle CodeArticle  CodeFamille  \n",
            "0   Facture              NaN     CHAOR42     BIJOUXOR  \n",
            "1   Facture      Accessoires    X2ROUAGE     MONTREBW  \n",
            "2   Facture      Accessoires      CHFE01     BIJOUXOR  \n",
            "3   Facture      Accessoires      CHFE01     BIJOUXOR  \n",
            "4   Facture      Accessoires   X1BRACBAR     MONTREBW  \n",
            "5   Facture      Accessoires      CHFE01     BIJOUXOR  \n",
            "6   Facture      Accessoires      CHFE01     BIJOUXOR  \n",
            "7   Facture      Accessoires      CHFE01     BIJOUXOR  \n",
            "8   Facture      Prestations   LOCPARURE     PRESTLOC  \n",
            "9   Facture      Prestations   LOCPARURE     PRESTLOC  \n",
            "\n",
            "[10 rows x 26 columns]\n"
          ]
        }
      ]
    },
    {
      "cell_type": "code",
      "source": [
        "#5\n",
        "print(df.columns)\n"
      ],
      "metadata": {
        "colab": {
          "base_uri": "https://localhost:8080/"
        },
        "id": "RHOb8RI9MNTG",
        "outputId": "01f0dfbc-b836-4192-a58e-de9e1c0e5ce8"
      },
      "execution_count": 8,
      "outputs": [
        {
          "output_type": "stream",
          "name": "stdout",
          "text": [
            "Index(['Client', 'CategorieTarifaireClient', 'Famille', 'Representant',\n",
            "       'Article', 'Piece', 'MontantHT', 'QteVendues', 'Marge',\n",
            "       'ExerciceComptable', 'Annee', 'Trimestre', 'Mois', 'Semaine',\n",
            "       'PrixVente', 'MontantTTC', 'TVA', 'Pays', 'Region', 'MontantBrut',\n",
            "       'Date', 'CodeClient', 'Document', 'CatalogueArticle', 'CodeArticle',\n",
            "       'CodeFamille'],\n",
            "      dtype='object')\n"
          ]
        }
      ]
    },
    {
      "cell_type": "code",
      "source": [
        "#6\n",
        "print(df)\n"
      ],
      "metadata": {
        "colab": {
          "base_uri": "https://localhost:8080/"
        },
        "id": "CO4_3UASMZkt",
        "outputId": "8b79fedc-7a94-45c5-9c63-9b16fed530c3"
      },
      "execution_count": 9,
      "outputs": [
        {
          "output_type": "stream",
          "name": "stdout",
          "text": [
            "                  Client CategorieTarifaireClient                   Famille  \\\n",
            "0          Carat S.a.r.l               Grossistes  BIJOUXOR - Bijouterie Or   \n",
            "1     Rubis sur Longleux               Grossistes                       NaN   \n",
            "2                  Opale               Grossistes  BIJOUXOR - Bijouterie Or   \n",
            "3        Grenat pour toi              Détaillants  BIJOUXOR - Bijouterie Or   \n",
            "4           Directy Sarl              Détaillants     MONTREBW - Montres BW   \n",
            "...                  ...                      ...                       ...   \n",
            "2428        Diamant Vert               Grossistes  BIJOUXOR - Bijouterie Or   \n",
            "2429        Directy Sarl              Détaillants  BIJOUXOR - Bijouterie Or   \n",
            "2430      Platine & fils              Détaillants     MONTREBW - Montres BW   \n",
            "2431         Emeraude SA              Détaillants     MONTREBW - Montres BW   \n",
            "2432     Client FINEXKAP               Grossistes     MONTREBW - Montres BW   \n",
            "\n",
            "      Representant                                       Article    Piece  \\\n",
            "0                9                                           NaN  FA03008   \n",
            "1                9                X2ROUAGE - Rouage mécanisme BW  FA03064   \n",
            "2                6                      CHFE01 - Fermoir cliquet  FA01066   \n",
            "3                6                      CHFE01 - Fermoir cliquet  FA00349   \n",
            "4               10  X1BRACBAR - Barrette pour Bracelet montre BW  FA00202   \n",
            "...            ...                                           ...      ...   \n",
            "2428            10         STYPLOR - Stylo plume dorée Sill Vany  FA19055   \n",
            "2429            10         STYPLOR - Stylo plume dorée Sill Vany  FA19056   \n",
            "2430             6     X1BRACAC - Bracelet acier pour montres BW  FA19102   \n",
            "2431            10     X1BRACAC - Bracelet acier pour montres BW  FA19111   \n",
            "2432             0     X1BRACAC - Bracelet acier pour montres BW  FA19101   \n",
            "\n",
            "      MontantHT  QteVendues    Marge        ExerciceComptable  ...  TVA  \\\n",
            "0       19051.2         NaN  9979.20  du 01/01/17 au 31/12/17  ...  0.0   \n",
            "1        1980.0        22.0   990.00        EXERCICE INDéFINI  ...  0.0   \n",
            "2         189.0        15.0    99.00  du 01/01/17 au 31/12/17  ...  0.0   \n",
            "3         189.0        15.0    99.00  du 01/01/17 au 31/12/17  ...  0.0   \n",
            "4         150.0       100.0    99.00  du 01/01/17 au 31/12/17  ...  0.0   \n",
            "...         ...         ...      ...                      ...  ...  ...   \n",
            "2428     2000.0         8.0  1000.08        EXERCICE INDéFINI  ...  0.0   \n",
            "2429     2000.0         8.0  1000.08        EXERCICE INDéFINI  ...  0.0   \n",
            "2430      200.0         5.0   100.00        EXERCICE INDéFINI  ...  0.0   \n",
            "2431      200.0         5.0   100.00        EXERCICE INDéFINI  ...  0.0   \n",
            "2432      200.0         5.0   100.00        EXERCICE INDéFINI  ...  0.0   \n",
            "\n",
            "          Pays                      Region MontantBrut  \\\n",
            "0       France                         NaN    22861.44   \n",
            "1     Belgique          Bruxelles-Capitale     1980.00   \n",
            "2       Suisse                 Les Grisons      189.00   \n",
            "3       France          Nouvelle-Aquitaine      226.80   \n",
            "4       France                   Occitanie      180.00   \n",
            "...        ...                         ...         ...   \n",
            "2428    France            Pays de la Loire     2400.00   \n",
            "2429    France            Pays de la Loire     2400.00   \n",
            "2430    France             Hauts-de-France      240.00   \n",
            "2431    France            Pays de la Loire      240.00   \n",
            "2432    France  Provence-Alpes-Côte d’Azur      240.00   \n",
            "\n",
            "                         Date  CodeClient  Document CatalogueArticle  \\\n",
            "0     2017-07-11 00:00:00.000       CARAT   Facture              NaN   \n",
            "1     2018-08-20 00:00:00.000       RUBIS   Facture      Accessoires   \n",
            "2     2017-08-09 00:00:00.000       OPALE   Facture      Accessoires   \n",
            "3     2017-08-06 00:00:00.000       GRENA   Facture      Accessoires   \n",
            "4     2017-03-27 00:00:00.000     DIRECTY   Facture      Accessoires   \n",
            "...                       ...         ...       ...              ...   \n",
            "2428  2019-07-27 00:00:00.000       DIAMA   Facture           Bijoux   \n",
            "2429  2019-07-31 00:00:00.000     DIRECTY   Facture           Bijoux   \n",
            "2430  2019-12-14 00:00:00.000       PLATI   Facture      Accessoires   \n",
            "2431  2019-01-23 00:00:00.000       EMERA   Facture      Accessoires   \n",
            "2432  2019-12-14 00:00:00.000    FINEXKAP   Facture      Accessoires   \n",
            "\n",
            "     CodeArticle  CodeFamille  \n",
            "0        CHAOR42     BIJOUXOR  \n",
            "1       X2ROUAGE     MONTREBW  \n",
            "2         CHFE01     BIJOUXOR  \n",
            "3         CHFE01     BIJOUXOR  \n",
            "4      X1BRACBAR     MONTREBW  \n",
            "...          ...          ...  \n",
            "2428     STYPLOR     BIJOUXOR  \n",
            "2429     STYPLOR     BIJOUXOR  \n",
            "2430    X1BRACAC     MONTREBW  \n",
            "2431    X1BRACAC     MONTREBW  \n",
            "2432    X1BRACAC     MONTREBW  \n",
            "\n",
            "[2433 rows x 26 columns]\n"
          ]
        }
      ]
    },
    {
      "cell_type": "code",
      "source": [
        "#7\n",
        "print(df.loc[0, 'Client'])\n"
      ],
      "metadata": {
        "colab": {
          "base_uri": "https://localhost:8080/"
        },
        "id": "M8YnyrFuMrMI",
        "outputId": "5f198fcb-fac4-4e0b-ff59-79b06cae15e2"
      },
      "execution_count": 10,
      "outputs": [
        {
          "output_type": "stream",
          "name": "stdout",
          "text": [
            "Carat S.a.r.l\n"
          ]
        }
      ]
    },
    {
      "cell_type": "code",
      "source": [
        "#8\n",
        "print(df.loc[0, ['Client', 'CategorieTarifaireClient']])\n"
      ],
      "metadata": {
        "colab": {
          "base_uri": "https://localhost:8080/"
        },
        "id": "9Rxpa8rRNyW4",
        "outputId": "d886d077-f71f-425b-f325-572c38b32621"
      },
      "execution_count": 11,
      "outputs": [
        {
          "output_type": "stream",
          "name": "stdout",
          "text": [
            "Client                      Carat S.a.r.l\n",
            "CategorieTarifaireClient       Grossistes\n",
            "Name: 0, dtype: object\n"
          ]
        }
      ]
    },
    {
      "cell_type": "code",
      "source": [
        "#9\n",
        "df_carat = df.loc[df['Client'] == 'Carat S.a.r.l']\n",
        "print(df_carat)\n"
      ],
      "metadata": {
        "colab": {
          "base_uri": "https://localhost:8080/"
        },
        "id": "_BpgkhyJN9sr",
        "outputId": "494a3d6b-e7ba-4f3b-f803-fc09cdf31c07"
      },
      "execution_count": 12,
      "outputs": [
        {
          "output_type": "stream",
          "name": "stdout",
          "text": [
            "             Client CategorieTarifaireClient                        Famille  \\\n",
            "0     Carat S.a.r.l               Grossistes       BIJOUXOR - Bijouterie Or   \n",
            "21    Carat S.a.r.l               Grossistes       BIJOUXOR - Bijouterie Or   \n",
            "31    Carat S.a.r.l               Grossistes       BIJOUXOR - Bijouterie Or   \n",
            "40    Carat S.a.r.l               Grossistes       BIJOUXOR - Bijouterie Or   \n",
            "42    Carat S.a.r.l               Grossistes       MONTREOR - Montres en Or   \n",
            "...             ...                      ...                            ...   \n",
            "2215  Carat S.a.r.l               Grossistes       BIJOUXOR - Bijouterie Or   \n",
            "2220  Carat S.a.r.l               Grossistes       BIJOUXOR - Bijouterie Or   \n",
            "2236  Carat S.a.r.l               Grossistes       BIJOUXOR - Bijouterie Or   \n",
            "2322  Carat S.a.r.l               Grossistes  BIJOUXARG - Bijouterie Argent   \n",
            "2332  Carat S.a.r.l               Grossistes  BIJOUXARG - Bijouterie Argent   \n",
            "\n",
            "      Representant                                      Article    Piece  \\\n",
            "0                9                                          NaN  FA03008   \n",
            "21               9              CHAOR42 - Chaînes mailles fines  FA03026   \n",
            "31               9                    CHORFA - Chaîne forçat Or  FA03048   \n",
            "40               9                    CHORFA - Chaîne forçat Or  FA03008   \n",
            "42               9  ENSHF - Ensemble Montres & stylos pour deux  BL19007   \n",
            "...            ...                                          ...      ...   \n",
            "2215             9              CHAOR42 - Chaînes mailles fines  FA00048   \n",
            "2220             9              CHAOR42 - Chaînes mailles fines  FA03014   \n",
            "2236             9              CHAOR42 - Chaînes mailles fines  FA03048   \n",
            "2322             9                        BAAR01 - Bague Argent  FA03014   \n",
            "2332             9                        BAAR01 - Bague Argent  FA06004   \n",
            "\n",
            "      MontantHT  QteVendues    Marge        ExerciceComptable  ...  TVA  \\\n",
            "0       19051.2         NaN  9979.20  du 01/01/17 au 31/12/17  ...  0.0   \n",
            "21       1881.6         8.0   985.60        EXERCICE INDéFINI  ...  0.0   \n",
            "31       1071.0         1.0   973.04        EXERCICE INDéFINI  ...  0.0   \n",
            "40       1071.0         1.0   973.04  du 01/01/17 au 31/12/17  ...  0.0   \n",
            "42       1000.0         1.0   970.00        EXERCICE INDéFINI  ...  0.0   \n",
            "...         ...         ...      ...                      ...  ...  ...   \n",
            "2215      235.2         1.0   123.20        EXERCICE INDéFINI  ...  0.0   \n",
            "2220      235.2         1.0   123.20        EXERCICE INDéFINI  ...  0.0   \n",
            "2236      235.2         1.0   123.20        EXERCICE INDéFINI  ...  0.0   \n",
            "2322      297.6         1.0   111.71        EXERCICE INDéFINI  ...  0.0   \n",
            "2332      297.6         1.0   111.71  du 01/01/17 au 31/12/17  ...  0.0   \n",
            "\n",
            "        Pays                   Region MontantBrut                     Date  \\\n",
            "0     France                      NaN    22861.44  2017-07-11 00:00:00.000   \n",
            "21    France           Ile-de-France.     2257.92  2018-05-14 00:00:00.000   \n",
            "31    France      Centre-Val de Loire     1285.20  2018-07-11 00:00:00.000   \n",
            "40    France         Pays de la Loire     1285.20  2017-07-11 00:00:00.000   \n",
            "42    France      Centre-Val de Loire     1200.00  2019-03-01 00:00:00.000   \n",
            "...      ...                      ...         ...                      ...   \n",
            "2215  France      Centre-Val de Loire      235.20  2018-07-11 00:00:00.000   \n",
            "2220  France           Ile-de-France.      282.24  2018-03-26 00:00:00.000   \n",
            "2236  France  Bourgogne-Franche-Comté      282.24  2018-07-11 00:00:00.000   \n",
            "2322  France           Ile-de-France.      357.12  2018-03-26 00:00:00.000   \n",
            "2332  France  Bourgogne-Franche-Comté      357.12  2017-03-26 00:00:00.000   \n",
            "\n",
            "      CodeClient          Document CatalogueArticle CodeArticle  CodeFamille  \n",
            "0          CARAT           Facture              NaN     CHAOR42     BIJOUXOR  \n",
            "21         CARAT           Facture           Bijoux     CHAOR42     BIJOUXOR  \n",
            "31         CARAT           Facture           Bijoux      CHORFA     BIJOUXOR  \n",
            "40         CARAT           Facture           Bijoux      CHORFA     BIJOUXOR  \n",
            "42         CARAT  Bon de livraison          Montres       ENSHF     MONTREOR  \n",
            "...          ...               ...              ...         ...          ...  \n",
            "2215       CARAT           Facture           Bijoux     CHAOR42     BIJOUXOR  \n",
            "2220       CARAT           Facture           Bijoux     CHAOR42     BIJOUXOR  \n",
            "2236       CARAT           Facture           Bijoux     CHAOR42     BIJOUXOR  \n",
            "2322       CARAT           Facture           Bijoux      BAAR01    BIJOUXARG  \n",
            "2332       CARAT           Facture           Bijoux      BAAR01    BIJOUXARG  \n",
            "\n",
            "[151 rows x 26 columns]\n"
          ]
        }
      ]
    },
    {
      "cell_type": "code",
      "source": [
        "#10\n",
        "df_carat = df[df['Client'] == 'Carat S.a.r.l']\n",
        "print(df_carat)\n"
      ],
      "metadata": {
        "colab": {
          "base_uri": "https://localhost:8080/"
        },
        "id": "mJ6TUg23PjcT",
        "outputId": "e71957b7-0062-42bd-f3aa-23223458744a"
      },
      "execution_count": 13,
      "outputs": [
        {
          "output_type": "stream",
          "name": "stdout",
          "text": [
            "             Client CategorieTarifaireClient                        Famille  \\\n",
            "0     Carat S.a.r.l               Grossistes       BIJOUXOR - Bijouterie Or   \n",
            "21    Carat S.a.r.l               Grossistes       BIJOUXOR - Bijouterie Or   \n",
            "31    Carat S.a.r.l               Grossistes       BIJOUXOR - Bijouterie Or   \n",
            "40    Carat S.a.r.l               Grossistes       BIJOUXOR - Bijouterie Or   \n",
            "42    Carat S.a.r.l               Grossistes       MONTREOR - Montres en Or   \n",
            "...             ...                      ...                            ...   \n",
            "2215  Carat S.a.r.l               Grossistes       BIJOUXOR - Bijouterie Or   \n",
            "2220  Carat S.a.r.l               Grossistes       BIJOUXOR - Bijouterie Or   \n",
            "2236  Carat S.a.r.l               Grossistes       BIJOUXOR - Bijouterie Or   \n",
            "2322  Carat S.a.r.l               Grossistes  BIJOUXARG - Bijouterie Argent   \n",
            "2332  Carat S.a.r.l               Grossistes  BIJOUXARG - Bijouterie Argent   \n",
            "\n",
            "      Representant                                      Article    Piece  \\\n",
            "0                9                                          NaN  FA03008   \n",
            "21               9              CHAOR42 - Chaînes mailles fines  FA03026   \n",
            "31               9                    CHORFA - Chaîne forçat Or  FA03048   \n",
            "40               9                    CHORFA - Chaîne forçat Or  FA03008   \n",
            "42               9  ENSHF - Ensemble Montres & stylos pour deux  BL19007   \n",
            "...            ...                                          ...      ...   \n",
            "2215             9              CHAOR42 - Chaînes mailles fines  FA00048   \n",
            "2220             9              CHAOR42 - Chaînes mailles fines  FA03014   \n",
            "2236             9              CHAOR42 - Chaînes mailles fines  FA03048   \n",
            "2322             9                        BAAR01 - Bague Argent  FA03014   \n",
            "2332             9                        BAAR01 - Bague Argent  FA06004   \n",
            "\n",
            "      MontantHT  QteVendues    Marge        ExerciceComptable  ...  TVA  \\\n",
            "0       19051.2         NaN  9979.20  du 01/01/17 au 31/12/17  ...  0.0   \n",
            "21       1881.6         8.0   985.60        EXERCICE INDéFINI  ...  0.0   \n",
            "31       1071.0         1.0   973.04        EXERCICE INDéFINI  ...  0.0   \n",
            "40       1071.0         1.0   973.04  du 01/01/17 au 31/12/17  ...  0.0   \n",
            "42       1000.0         1.0   970.00        EXERCICE INDéFINI  ...  0.0   \n",
            "...         ...         ...      ...                      ...  ...  ...   \n",
            "2215      235.2         1.0   123.20        EXERCICE INDéFINI  ...  0.0   \n",
            "2220      235.2         1.0   123.20        EXERCICE INDéFINI  ...  0.0   \n",
            "2236      235.2         1.0   123.20        EXERCICE INDéFINI  ...  0.0   \n",
            "2322      297.6         1.0   111.71        EXERCICE INDéFINI  ...  0.0   \n",
            "2332      297.6         1.0   111.71  du 01/01/17 au 31/12/17  ...  0.0   \n",
            "\n",
            "        Pays                   Region MontantBrut                     Date  \\\n",
            "0     France                      NaN    22861.44  2017-07-11 00:00:00.000   \n",
            "21    France           Ile-de-France.     2257.92  2018-05-14 00:00:00.000   \n",
            "31    France      Centre-Val de Loire     1285.20  2018-07-11 00:00:00.000   \n",
            "40    France         Pays de la Loire     1285.20  2017-07-11 00:00:00.000   \n",
            "42    France      Centre-Val de Loire     1200.00  2019-03-01 00:00:00.000   \n",
            "...      ...                      ...         ...                      ...   \n",
            "2215  France      Centre-Val de Loire      235.20  2018-07-11 00:00:00.000   \n",
            "2220  France           Ile-de-France.      282.24  2018-03-26 00:00:00.000   \n",
            "2236  France  Bourgogne-Franche-Comté      282.24  2018-07-11 00:00:00.000   \n",
            "2322  France           Ile-de-France.      357.12  2018-03-26 00:00:00.000   \n",
            "2332  France  Bourgogne-Franche-Comté      357.12  2017-03-26 00:00:00.000   \n",
            "\n",
            "      CodeClient          Document CatalogueArticle CodeArticle  CodeFamille  \n",
            "0          CARAT           Facture              NaN     CHAOR42     BIJOUXOR  \n",
            "21         CARAT           Facture           Bijoux     CHAOR42     BIJOUXOR  \n",
            "31         CARAT           Facture           Bijoux      CHORFA     BIJOUXOR  \n",
            "40         CARAT           Facture           Bijoux      CHORFA     BIJOUXOR  \n",
            "42         CARAT  Bon de livraison          Montres       ENSHF     MONTREOR  \n",
            "...          ...               ...              ...         ...          ...  \n",
            "2215       CARAT           Facture           Bijoux     CHAOR42     BIJOUXOR  \n",
            "2220       CARAT           Facture           Bijoux     CHAOR42     BIJOUXOR  \n",
            "2236       CARAT           Facture           Bijoux     CHAOR42     BIJOUXOR  \n",
            "2322       CARAT           Facture           Bijoux      BAAR01    BIJOUXARG  \n",
            "2332       CARAT           Facture           Bijoux      BAAR01    BIJOUXARG  \n",
            "\n",
            "[151 rows x 26 columns]\n"
          ]
        }
      ]
    },
    {
      "cell_type": "code",
      "source": [
        "#11\n",
        "print(df.isnull())\n"
      ],
      "metadata": {
        "colab": {
          "base_uri": "https://localhost:8080/"
        },
        "id": "uySN3FlAPwKq",
        "outputId": "3637fc48-f03d-4b0b-ba4e-34df0f3a1008"
      },
      "execution_count": 14,
      "outputs": [
        {
          "output_type": "stream",
          "name": "stdout",
          "text": [
            "      Client  CategorieTarifaireClient  Famille  Representant  Article  Piece  \\\n",
            "0      False                     False    False         False     True  False   \n",
            "1      False                     False     True         False    False  False   \n",
            "2      False                     False    False         False    False  False   \n",
            "3      False                     False    False         False    False  False   \n",
            "4      False                     False    False         False    False  False   \n",
            "...      ...                       ...      ...           ...      ...    ...   \n",
            "2428   False                     False    False         False    False  False   \n",
            "2429   False                     False    False         False    False  False   \n",
            "2430   False                     False    False         False    False  False   \n",
            "2431   False                     False    False         False    False  False   \n",
            "2432   False                     False    False         False    False  False   \n",
            "\n",
            "      MontantHT  QteVendues  Marge  ExerciceComptable  ...    TVA   Pays  \\\n",
            "0         False        True  False              False  ...  False  False   \n",
            "1         False       False  False              False  ...  False  False   \n",
            "2         False       False  False              False  ...  False  False   \n",
            "3         False       False  False              False  ...  False  False   \n",
            "4         False       False  False              False  ...  False  False   \n",
            "...         ...         ...    ...                ...  ...    ...    ...   \n",
            "2428      False       False  False              False  ...  False  False   \n",
            "2429      False       False  False              False  ...  False  False   \n",
            "2430      False       False  False              False  ...  False  False   \n",
            "2431      False       False  False              False  ...  False  False   \n",
            "2432      False       False  False              False  ...  False  False   \n",
            "\n",
            "      Region  MontantBrut   Date  CodeClient  Document  CatalogueArticle  \\\n",
            "0       True        False  False       False     False              True   \n",
            "1      False        False  False       False     False             False   \n",
            "2      False        False  False       False     False             False   \n",
            "3      False        False  False       False     False             False   \n",
            "4      False        False  False       False     False             False   \n",
            "...      ...          ...    ...         ...       ...               ...   \n",
            "2428   False        False  False       False     False             False   \n",
            "2429   False        False  False       False     False             False   \n",
            "2430   False        False  False       False     False             False   \n",
            "2431   False        False  False       False     False             False   \n",
            "2432   False        False  False       False     False             False   \n",
            "\n",
            "      CodeArticle  CodeFamille  \n",
            "0           False        False  \n",
            "1           False        False  \n",
            "2           False        False  \n",
            "3           False        False  \n",
            "4           False        False  \n",
            "...           ...          ...  \n",
            "2428        False        False  \n",
            "2429        False        False  \n",
            "2430        False        False  \n",
            "2431        False        False  \n",
            "2432        False        False  \n",
            "\n",
            "[2433 rows x 26 columns]\n"
          ]
        }
      ]
    },
    {
      "cell_type": "code",
      "source": [
        "#12\n",
        "print(df.isnull().sum())\n"
      ],
      "metadata": {
        "colab": {
          "base_uri": "https://localhost:8080/"
        },
        "id": "YnZTVp3yQL_p",
        "outputId": "cddfe6ef-f136-48bc-9276-561ad1e7ad04"
      },
      "execution_count": 15,
      "outputs": [
        {
          "output_type": "stream",
          "name": "stdout",
          "text": [
            "Client                      0\n",
            "CategorieTarifaireClient    0\n",
            "Famille                     5\n",
            "Representant                0\n",
            "Article                     1\n",
            "Piece                       0\n",
            "MontantHT                   0\n",
            "QteVendues                  1\n",
            "Marge                       0\n",
            "ExerciceComptable           0\n",
            "Annee                       0\n",
            "Trimestre                   0\n",
            "Mois                        1\n",
            "Semaine                     0\n",
            "PrixVente                   3\n",
            "MontantTTC                  1\n",
            "TVA                         0\n",
            "Pays                        0\n",
            "Region                      1\n",
            "MontantBrut                 0\n",
            "Date                        0\n",
            "CodeClient                  0\n",
            "Document                    0\n",
            "CatalogueArticle            1\n",
            "CodeArticle                 3\n",
            "CodeFamille                 5\n",
            "dtype: int64\n"
          ]
        }
      ]
    },
    {
      "cell_type": "code",
      "source": [
        "#13\n",
        "df['CategorieTarifaireClient'].replace('Grossistes', 'GR', inplace=True)\n",
        "print (df['CategorieTarifaireClient'])"
      ],
      "metadata": {
        "colab": {
          "base_uri": "https://localhost:8080/"
        },
        "id": "ZyoU-99YQj4U",
        "outputId": "3dd357dc-aa42-44cc-bf4d-a5b61d9b6bd0"
      },
      "execution_count": 20,
      "outputs": [
        {
          "output_type": "stream",
          "name": "stdout",
          "text": [
            "0                GR\n",
            "1                GR\n",
            "2                GR\n",
            "3       Détaillants\n",
            "4       Détaillants\n",
            "           ...     \n",
            "2428             GR\n",
            "2429    Détaillants\n",
            "2430    Détaillants\n",
            "2431    Détaillants\n",
            "2432             GR\n",
            "Name: CategorieTarifaireClient, Length: 2433, dtype: object\n"
          ]
        }
      ]
    },
    {
      "cell_type": "code",
      "source": [
        "#14\n",
        "df['Client'].replace({'Rubis sur longleux': 100, 'Opale': 200}, inplace=True)\n",
        "print (df['Client'])"
      ],
      "metadata": {
        "colab": {
          "base_uri": "https://localhost:8080/"
        },
        "id": "7dOLjpYqRySr",
        "outputId": "58034b87-8dc7-475b-ddb3-f04a10118604"
      },
      "execution_count": 21,
      "outputs": [
        {
          "output_type": "stream",
          "name": "stdout",
          "text": [
            "0            Carat S.a.r.l\n",
            "1       Rubis sur Longleux\n",
            "2                      200\n",
            "3          Grenat pour toi\n",
            "4             Directy Sarl\n",
            "               ...        \n",
            "2428          Diamant Vert\n",
            "2429          Directy Sarl\n",
            "2430        Platine & fils\n",
            "2431           Emeraude SA\n",
            "2432       Client FINEXKAP\n",
            "Name: Client, Length: 2433, dtype: object\n"
          ]
        }
      ]
    }
  ]
}