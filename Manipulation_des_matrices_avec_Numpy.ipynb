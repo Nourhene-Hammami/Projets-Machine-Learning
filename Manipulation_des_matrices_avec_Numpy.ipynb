{
  "nbformat": 4,
  "nbformat_minor": 0,
  "metadata": {
    "colab": {
      "provenance": []
    },
    "kernelspec": {
      "name": "python3",
      "display_name": "Python 3"
    },
    "language_info": {
      "name": "python"
    }
  },
  "cells": [
    {
      "cell_type": "code",
      "execution_count": 2,
      "metadata": {
        "id": "2kpxP8b3YGhK"
      },
      "outputs": [],
      "source": [
        "#1\n",
        "import numpy as np"
      ]
    },
    {
      "cell_type": "code",
      "source": [
        "#2\n",
        "# Générer un tableau de 10 éléments\n",
        "tableau1 = np.random.randint(0, 10, size=10)\n",
        "\n",
        "# Générer un tableau de 5x5 éléments\n",
        "tableau2 = np.random.randint(0, 10, size=(5, 5))\n",
        "\n",
        "# Générer un tableau de 3x3x3 éléments\n",
        "tableau3 = np.random.randint(0, 10, size=(3, 3, 3))\n",
        "\n",
        "print(\"Tableau 1:\\n\", tableau1)\n",
        "print(\"Tableau 2:\\n\", tableau2)\n",
        "print(\"Tableau 3:\\n\", tableau3)"
      ],
      "metadata": {
        "colab": {
          "base_uri": "https://localhost:8080/"
        },
        "id": "Nm4KqQTPbQXr",
        "outputId": "894de53c-784a-4af2-b141-91dd4119b474"
      },
      "execution_count": null,
      "outputs": [
        {
          "output_type": "stream",
          "name": "stdout",
          "text": [
            "Tableau 1:\n",
            " [7 8 6 2 6 9 2 1 0 9]\n",
            "Tableau 2:\n",
            " [[0 0 6 9 0]\n",
            " [0 1 3 7 5]\n",
            " [5 6 5 5 3]\n",
            " [9 9 7 3 4]\n",
            " [7 8 6 6 6]]\n",
            "Tableau 3:\n",
            " [[[4 4 7]\n",
            "  [7 8 5]\n",
            "  [6 1 6]]\n",
            "\n",
            " [[1 3 5]\n",
            "  [1 5 7]\n",
            "  [7 4 6]]\n",
            "\n",
            " [[8 7 8]\n",
            "  [2 3 2]\n",
            "  [1 7 3]]]\n"
          ]
        }
      ]
    },
    {
      "cell_type": "code",
      "source": [
        "# Afficher le shape des tableaux\n",
        "print(\"Shape du tableau 1:\", tableau1.shape)\n",
        "print(\"Shape du tableau 2:\", tableau2.shape)\n",
        "print(\"Shape du tableau 3:\", tableau3.shape)\n"
      ],
      "metadata": {
        "colab": {
          "base_uri": "https://localhost:8080/"
        },
        "id": "c7OQTeWXc6tW",
        "outputId": "bbe10e7e-ecc3-4b9d-e16e-49017d782b82"
      },
      "execution_count": null,
      "outputs": [
        {
          "output_type": "stream",
          "name": "stdout",
          "text": [
            "Shape du tableau 1: (10,)\n",
            "Shape du tableau 2: (5, 5)\n",
            "Shape du tableau 3: (3, 3, 3)\n"
          ]
        }
      ]
    },
    {
      "cell_type": "code",
      "source": [
        "#4\n",
        "# Afficher la taille (size) des tableaux\n",
        "print(\"Taille du tableau 1:\", tableau1.size)\n",
        "print(\"Taille du tableau 2:\", tableau2.size)\n",
        "print(\"Taille du tableau 3:\", tableau3.size)\n"
      ],
      "metadata": {
        "colab": {
          "base_uri": "https://localhost:8080/"
        },
        "id": "CMI36ztpei2R",
        "outputId": "9900c6d9-8a6b-47ba-cf5e-1344cbd1b358"
      },
      "execution_count": null,
      "outputs": [
        {
          "output_type": "stream",
          "name": "stdout",
          "text": [
            "Taille du tableau 1: 10\n",
            "Taille du tableau 2: 25\n",
            "Taille du tableau 3: 27\n"
          ]
        }
      ]
    },
    {
      "cell_type": "code",
      "source": [
        "#5\n",
        "# Afficher le nombre de dimensions (ndim) des tableaux\n",
        "print(\"Nombre de dimensions du tableau 1:\", tableau1.ndim)\n",
        "print(\"Nombre de dimensions du tableau 2:\", tableau2.ndim)\n",
        "print(\"Nombre de dimensions du tableau 3:\", tableau3.ndim)\n"
      ],
      "metadata": {
        "colab": {
          "base_uri": "https://localhost:8080/"
        },
        "id": "UxuTFngSetBw",
        "outputId": "29870586-9051-428f-86d5-ad5ae72a01ea"
      },
      "execution_count": null,
      "outputs": [
        {
          "output_type": "stream",
          "name": "stdout",
          "text": [
            "Nombre de dimensions du tableau 1: 1\n",
            "Nombre de dimensions du tableau 2: 2\n",
            "Nombre de dimensions du tableau 3: 3\n"
          ]
        }
      ]
    },
    {
      "cell_type": "code",
      "source": [
        "#6\n",
        "# Afficher le type de données (dtype) des tableaux\n",
        "print(\"Type de données du tableau 1:\", tableau1.dtype)\n",
        "print(\"Type de données du tableau 2:\", tableau2.dtype)\n",
        "print(\"Type de données du tableau 3:\", tableau3.dtype)\n"
      ],
      "metadata": {
        "colab": {
          "base_uri": "https://localhost:8080/"
        },
        "id": "5NSPLNDYfGE6",
        "outputId": "baac09cb-9af1-4546-f3af-841dcdd6020c"
      },
      "execution_count": null,
      "outputs": [
        {
          "output_type": "stream",
          "name": "stdout",
          "text": [
            "Type de données du tableau 1: int64\n",
            "Type de données du tableau 2: int64\n",
            "Type de données du tableau 3: int64\n"
          ]
        }
      ]
    },
    {
      "cell_type": "code",
      "source": [
        "#7\n",
        "# Afficher les premiers et deuxièmes éléments du premier tableau\n",
        "print(\"Premier élément du tableau 1:\", tableau1[0])\n",
        "print(\"Deuxième élément du tableau 1:\", tableau1[1])\n"
      ],
      "metadata": {
        "colab": {
          "base_uri": "https://localhost:8080/"
        },
        "id": "Muan7yXjfzST",
        "outputId": "1571a494-3175-40ce-bd8d-493a795a72ee"
      },
      "execution_count": null,
      "outputs": [
        {
          "output_type": "stream",
          "name": "stdout",
          "text": [
            "Premier élément du tableau 1: 7\n",
            "Deuxième élément du tableau 1: 8\n"
          ]
        }
      ]
    },
    {
      "cell_type": "code",
      "source": [
        "# Afficher le dernier et l'avant-dernier élément du premier tableau\n",
        "print(\"Dernier élément du tableau 1:\", tableau1[-1])\n",
        "print(\"Avant-dernier élément du tableau 1:\", tableau1[-2])\n"
      ],
      "metadata": {
        "colab": {
          "base_uri": "https://localhost:8080/"
        },
        "id": "zXWFYAPcgZnI",
        "outputId": "7d652c51-ca96-49e7-bda2-71642f5a516d"
      },
      "execution_count": null,
      "outputs": [
        {
          "output_type": "stream",
          "name": "stdout",
          "text": [
            "Dernier élément du tableau 1: 9\n",
            "Avant-dernier élément du tableau 1: 0\n"
          ]
        }
      ]
    },
    {
      "cell_type": "code",
      "source": [
        "# Afficher le contenu du tableau 2\n",
        "print(\"Contenu du tableau 2:\\n\", tableau2)\n"
      ],
      "metadata": {
        "colab": {
          "base_uri": "https://localhost:8080/"
        },
        "id": "iyd94MSegqC6",
        "outputId": "da7ee929-0603-4bc8-e129-e2b077617515"
      },
      "execution_count": null,
      "outputs": [
        {
          "output_type": "stream",
          "name": "stdout",
          "text": [
            "Contenu du tableau 2:\n",
            " [[0 0 6 9 0]\n",
            " [0 1 3 7 5]\n",
            " [5 6 5 5 3]\n",
            " [9 9 7 3 4]\n",
            " [7 8 6 6 6]]\n"
          ]
        }
      ]
    },
    {
      "cell_type": "code",
      "source": [
        "# Afficher l'élément en première position du tableau 2\n",
        "print(\"Premier élément du tableau 2:\", tableau2[0, 0])"
      ],
      "metadata": {
        "colab": {
          "base_uri": "https://localhost:8080/"
        },
        "id": "PRrA6CiAiFrm",
        "outputId": "2b331e0d-1c3c-42e1-9968-070ac85c8a16"
      },
      "execution_count": null,
      "outputs": [
        {
          "output_type": "stream",
          "name": "stdout",
          "text": [
            "Premier élément du tableau 2: 0\n"
          ]
        }
      ]
    },
    {
      "cell_type": "code",
      "source": [
        "# Afficher l'élément sur la dernière ligne et avant-dernière colonne du tableau 2\n",
        "print(\"Élément sur la dernière ligne et avant-dernière colonne du tableau 2:\", tableau2[-1, -2])\n"
      ],
      "metadata": {
        "colab": {
          "base_uri": "https://localhost:8080/"
        },
        "id": "j8Etu-5NiXXL",
        "outputId": "875c5f6e-6ebd-4014-f10a-281f24198f17"
      },
      "execution_count": null,
      "outputs": [
        {
          "output_type": "stream",
          "name": "stdout",
          "text": [
            "Élément sur la dernière ligne et avant-dernière colonne du tableau 2: 6\n"
          ]
        }
      ]
    },
    {
      "cell_type": "code",
      "source": [
        "# Remplacer le premier élément du tableau 1 par 50\n",
        "tableau1[0] = 50\n",
        "\n",
        "# Afficher le tableau mis à jour\n",
        "print(\"Tableau 1 après modification:\", tableau1)\n"
      ],
      "metadata": {
        "colab": {
          "base_uri": "https://localhost:8080/"
        },
        "id": "3wpSzNToi3f6",
        "outputId": "cd044459-a0b9-48de-e5ff-e7720bd0d547"
      },
      "execution_count": null,
      "outputs": [
        {
          "output_type": "stream",
          "name": "stdout",
          "text": [
            "Tableau 1 après modification: [50  8  6  2  6  9  2  1  0  9]\n"
          ]
        }
      ]
    },
    {
      "cell_type": "code",
      "source": [
        "# Ajouter la valeur 3.15896 à la première position du tableau 1\n",
        "tableau1[0] = 3.15896\n",
        "\n",
        "# Afficher le tableau mis à jour\n",
        "print(\"Tableau 1 après ajout de la valeur:\", tableau1)\n"
      ],
      "metadata": {
        "colab": {
          "base_uri": "https://localhost:8080/"
        },
        "id": "r-3eHcKui6Jm",
        "outputId": "8c30ba99-0761-4d79-e82e-05d9318ed266"
      },
      "execution_count": null,
      "outputs": [
        {
          "output_type": "stream",
          "name": "stdout",
          "text": [
            "Tableau 1 après ajout de la valeur: [3 8 6 2 6 9 2 1 0 9]\n"
          ]
        }
      ]
    },
    {
      "cell_type": "code",
      "source": [
        "#Etape 2 : le Array Slicing sur un tableau numpy : les sous-tableaux\n",
        "\n",
        "# Créer un tableau d'entiers avec arange\n",
        "nouveau_tableau = np.arange(10)\n",
        "\n",
        "# Afficher le nouveau tableau\n",
        "print(\"Nouveau tableau d'entiers:\", nouveau_tableau)\n"
      ],
      "metadata": {
        "colab": {
          "base_uri": "https://localhost:8080/"
        },
        "id": "oQ_kRSqAjXw1",
        "outputId": "1ccb1262-371a-4f18-fd2d-02d2cb905b97"
      },
      "execution_count": null,
      "outputs": [
        {
          "output_type": "stream",
          "name": "stdout",
          "text": [
            "Nouveau tableau d'entiers: [0 1 2 3 4 5 6 7 8 9]\n"
          ]
        }
      ]
    },
    {
      "cell_type": "code",
      "source": [
        "# Extraire les cinq premiers éléments du tableau précédant\n",
        "sous_tableau = nouveau_tableau[:5]\n",
        "\n",
        "# Afficher le sous-tableau\n",
        "print(\"Sous-tableau des cinq premiers éléments:\", sous_tableau)\n"
      ],
      "metadata": {
        "colab": {
          "base_uri": "https://localhost:8080/"
        },
        "id": "8299CAmMmLOu",
        "outputId": "005a0f23-1c7e-4a26-806d-52a3ca85c312"
      },
      "execution_count": null,
      "outputs": [
        {
          "output_type": "stream",
          "name": "stdout",
          "text": [
            "Sous-tableau des cinq premiers éléments: [0 1 2 3 4]\n"
          ]
        }
      ]
    },
    {
      "cell_type": "code",
      "source": [
        "# Extraire les cinq derniers éléments du tableau précédant\n",
        "sous_tableau = nouveau_tableau[-5:]\n",
        "\n",
        "# Afficher le sous-tableau\n",
        "print(\"Sous-tableau des cinq derniers éléments:\", sous_tableau)\n"
      ],
      "metadata": {
        "colab": {
          "base_uri": "https://localhost:8080/"
        },
        "id": "3fS2eiBgmOQl",
        "outputId": "4bf7fa37-4c8c-454a-959e-af0a76ed1934"
      },
      "execution_count": null,
      "outputs": [
        {
          "output_type": "stream",
          "name": "stdout",
          "text": [
            "Sous-tableau des cinq derniers éléments: [5 6 7 8 9]\n"
          ]
        }
      ]
    },
    {
      "cell_type": "code",
      "source": [
        "# Afficher les éléments d'indices pairs dans un tableau\n",
        "elements_pairs = tableau1[::2]\n",
        "\n",
        "# Afficher les éléments d'indices pairs\n",
        "print(\"Éléments d'indices pairs dans le tableau 1:\", elements_pairs)\n"
      ],
      "metadata": {
        "colab": {
          "base_uri": "https://localhost:8080/"
        },
        "id": "HwodcQV8mOUE",
        "outputId": "826a5e2d-c6ad-4e7e-a9be-a65a468d4d12"
      },
      "execution_count": null,
      "outputs": [
        {
          "output_type": "stream",
          "name": "stdout",
          "text": [
            "Éléments d'indices pairs dans le tableau 1: [3 6 6 2 0]\n"
          ]
        }
      ]
    },
    {
      "cell_type": "code",
      "source": [
        "# Afficher les éléments d'indices pairs à partir du troisième élément dans un tableau\n",
        "elements_pairs = tableau1[2::2]\n",
        "\n",
        "# Afficher les éléments d'indices pairs à partir du troisième élément\n",
        "print(\"Éléments d'indices pairs à partir du troisième élément dans le tableau 1:\", elements_pairs)"
      ],
      "metadata": {
        "colab": {
          "base_uri": "https://localhost:8080/"
        },
        "id": "3yFMtSrcnDay",
        "outputId": "3e484c5e-60d4-4878-d73a-1892a9d0e249"
      },
      "execution_count": null,
      "outputs": [
        {
          "output_type": "stream",
          "name": "stdout",
          "text": [
            "Éléments d'indices pairs à partir du troisième élément dans le tableau 1: [6 6 2 0]\n"
          ]
        }
      ]
    },
    {
      "cell_type": "code",
      "source": [
        "# Inverser un tableau avec la notation de tranche\n",
        "tableau_inverse = tableau1[::-1]\n",
        "\n",
        "# Afficher le tableau inversé\n",
        "print(\"Tableau 1 inversé:\", tableau_inverse)"
      ],
      "metadata": {
        "colab": {
          "base_uri": "https://localhost:8080/"
        },
        "id": "r1WbqHTXn1TB",
        "outputId": "5aa0f471-3e5a-4d89-8a17-43c6eee56c3d"
      },
      "execution_count": null,
      "outputs": [
        {
          "output_type": "stream",
          "name": "stdout",
          "text": [
            "Tableau 1 inversé: [9 0 1 2 9 6 2 6 8 3]\n"
          ]
        }
      ]
    },
    {
      "cell_type": "code",
      "source": [
        "# Création d'une matrice 3x4 pour l'exemple\n",
        "matrice = np.array([[1, 2, 3, 4],\n",
        "                    [5, 6, 7, 8],\n",
        "                    [9, 10, 11, 12]])\n",
        "\n",
        "# Afficher la sous-matrice des deux premières lignes et trois premières colonnes\n",
        "sous_matrice = matrice[:2, :3]\n",
        "\n",
        "# Afficher la sous-matrice résultante\n",
        "print(\"Sous-matrice des deux premières lignes et trois premières colonnes :\\n\", sous_matrice)"
      ],
      "metadata": {
        "colab": {
          "base_uri": "https://localhost:8080/"
        },
        "id": "AvBmw9BWoOBc",
        "outputId": "8c83792e-068b-4024-f011-282b670b21e4"
      },
      "execution_count": null,
      "outputs": [
        {
          "output_type": "stream",
          "name": "stdout",
          "text": [
            "Sous-matrice des deux premières lignes et trois premières colonnes :\n",
            " [[1 2 3]\n",
            " [5 6 7]]\n"
          ]
        }
      ]
    },
    {
      "cell_type": "code",
      "source": [
        "# Prenons une matrice 4x4 comme exemple\n",
        "matrice = np.array([[1, 2, 3, 4],\n",
        "                    [5, 6, 7, 8],\n",
        "                    [9, 10, 11, 12],\n",
        "                    [13, 14, 15, 16]])\n",
        "\n",
        "# Afficher toutes les lignes avec les deux premières colonnes à pas de deux\n",
        "resultat = matrice[:,:2:2]\n",
        "\n",
        "# Afficher le résultat\n",
        "print(\"Résultat : \", resultat)"
      ],
      "metadata": {
        "colab": {
          "base_uri": "https://localhost:8080/"
        },
        "id": "soTQuGB2pxJP",
        "outputId": "07cd772e-b231-4811-f5e9-8cfeab779bd4"
      },
      "execution_count": null,
      "outputs": [
        {
          "output_type": "stream",
          "name": "stdout",
          "text": [
            "Résultat :  [[ 1]\n",
            " [ 5]\n",
            " [ 9]\n",
            " [13]]\n"
          ]
        }
      ]
    },
    {
      "cell_type": "code",
      "source": [
        "# Prenons une matrice 4x4 comme exemple\n",
        "matrice = np.array([[1, 2, 3, 4],\n",
        "                    [5, 6, 7, 8],\n",
        "                    [9, 10, 11, 12],\n",
        "                    [13, 14, 15, 16]])\n",
        "\n",
        "# Inverser l'ordre des éléments dans la matrice\n",
        "matrice_inversee = matrice[::-1, ::-1]\n",
        "\n",
        "# Afficher la matrice inversée\n",
        "print(\"Matrice inversée :\\n\", matrice_inversee)\n"
      ],
      "metadata": {
        "colab": {
          "base_uri": "https://localhost:8080/"
        },
        "id": "Nrq2svsaGNib",
        "outputId": "b25468f5-e5df-4851-aeb7-068d0f739aa7"
      },
      "execution_count": 7,
      "outputs": [
        {
          "output_type": "stream",
          "name": "stdout",
          "text": [
            "Matrice inversée :\n",
            " [[16 15 14 13]\n",
            " [12 11 10  9]\n",
            " [ 8  7  6  5]\n",
            " [ 4  3  2  1]]\n"
          ]
        }
      ]
    },
    {
      "cell_type": "code",
      "source": [
        "# Afficher la première colonne de la matrice\n",
        "premiere_colonne = matrice[:, 0]\n",
        "\n",
        "# Afficher le résultat\n",
        "print(\"Première colonne de la matrice :\\n\", premiere_colonne)"
      ],
      "metadata": {
        "colab": {
          "base_uri": "https://localhost:8080/"
        },
        "id": "aU0EnR9WHWFH",
        "outputId": "85bf7846-62da-45a4-ba61-688ae7396f8a"
      },
      "execution_count": 8,
      "outputs": [
        {
          "output_type": "stream",
          "name": "stdout",
          "text": [
            "Première colonne de la matrice :\n",
            " [ 1  5  9 13]\n"
          ]
        }
      ]
    },
    {
      "cell_type": "code",
      "source": [
        "# Afficher la première ligne de la matrice\n",
        "premiere_ligne = matrice[0, :]\n",
        "\n",
        "# Afficher le résultat\n",
        "print(\"Première ligne de la matrice :\\n\", premiere_ligne)"
      ],
      "metadata": {
        "colab": {
          "base_uri": "https://localhost:8080/"
        },
        "id": "7t6SopXTH9YL",
        "outputId": "c8ff7d2f-c777-4e24-bcee-4b9c1b5b26e3"
      },
      "execution_count": 9,
      "outputs": [
        {
          "output_type": "stream",
          "name": "stdout",
          "text": [
            "Première ligne de la matrice :\n",
            " [1 2 3 4]\n"
          ]
        }
      ]
    },
    {
      "cell_type": "code",
      "source": [
        "# Obtenir une vue 2x2 de la matrice pour les deux premières lignes et colonnes\n",
        "vue_2x2 = matrice[:2, :2]\n",
        "\n",
        "# Afficher la vue 2x2\n",
        "print(\"Vue 2x2 de la matrice :\\n\", vue_2x2)"
      ],
      "metadata": {
        "colab": {
          "base_uri": "https://localhost:8080/"
        },
        "id": "gXaiknfMIXld",
        "outputId": "6d49db2e-b3f7-4987-c78e-b6202d75c490"
      },
      "execution_count": 10,
      "outputs": [
        {
          "output_type": "stream",
          "name": "stdout",
          "text": [
            "Vue 2x2 de la matrice :\n",
            " [[1 2]\n",
            " [5 6]]\n"
          ]
        }
      ]
    },
    {
      "cell_type": "code",
      "source": [
        "vue_2x2[0, 0] = 99\n",
        "\n",
        "# Afficher la vue modifiée\n",
        "print(\"Vue 2x2 modifiée :\\n\", vue_2x2)\n",
        "\n",
        "#question 27\n",
        "# Afficher la matrice originale pour voir l'impact de la modification\n",
        "print(\"Matrice originale après modification :\\n\", matrice)\n",
        "\n",
        "# question 28\n",
        "#La modification apportée à la vue 2x2 a également modifié la matrice originale.\n",
        "#En effet, lorsque vous créez une vue sur une matrice NumPy,\n",
        " #vous ne créez pas une copie indépendante des données.\n",
        " #Au lieu de cela, la vue partage les mêmes données sous-jacentes que la matrice originale.\n",
        "#Toute modification apportée à la vue se répercute donc directement sur la matrice originale.\n"
      ],
      "metadata": {
        "colab": {
          "base_uri": "https://localhost:8080/"
        },
        "id": "x0Zqe376KcES",
        "outputId": "1eba9fcb-d719-4a99-c3a6-3b81583527bb"
      },
      "execution_count": 11,
      "outputs": [
        {
          "output_type": "stream",
          "name": "stdout",
          "text": [
            "Vue 2x2 modifiée :\n",
            " [[99  2]\n",
            " [ 5  6]]\n",
            "Matrice originale après modification :\n",
            " [[99  2  3  4]\n",
            " [ 5  6  7  8]\n",
            " [ 9 10 11 12]\n",
            " [13 14 15 16]]\n"
          ]
        }
      ]
    },
    {
      "cell_type": "code",
      "source": [
        "#29\n",
        "# Créer une copie explicite de ce sous-tableau\n",
        "copie_2x2 = vue_2x2.copy()\n",
        "#30\n",
        "# Modifier la copie pour montrer qu'elle est indépendante de la matrice originale\n",
        "copie_2x2[0, 0] = 50005\n",
        "# Afficher la matrice originale pour vérifier qu'elle n'a pas été modifiée\n",
        "print(\"Matrice originale après modification de la copie :\\n\", matrice)\n",
        "\n",
        "# Afficher la copie pour vérifier la modification\n",
        "print(\"Copie 2x2 modifiée :\\n\", copie_2x2)"
      ],
      "metadata": {
        "id": "YtOPX9SwK96T",
        "colab": {
          "base_uri": "https://localhost:8080/"
        },
        "outputId": "bec72515-093c-4561-d336-07d2d6bedeae"
      },
      "execution_count": 16,
      "outputs": [
        {
          "output_type": "stream",
          "name": "stdout",
          "text": [
            "Matrice originale après modification de la copie :\n",
            " [[99  2  3  4]\n",
            " [ 5  6  7  8]\n",
            " [ 9 10 11 12]\n",
            " [13 14 15 16]]\n",
            "Copie 2x2 modifiée :\n",
            " [[50005     2]\n",
            " [    5     6]]\n"
          ]
        }
      ]
    },
    {
      "cell_type": "code",
      "source": [
        "# Créer un tableau composé par des nombres allant de 1 à 9\n",
        "tableau32 = np.arange(1, 10)\n",
        "\n",
        "# Répartir les nombres sur 3 lignes et 3 colonnes en utilisant reshape\n",
        "tableau_reshaped = tableau32.reshape(3, 3)\n",
        "\n",
        "# Afficher le tableau reshaped\n",
        "print(\"Tableau 3x3 reshaped :\\n\", tableau_reshaped)"
      ],
      "metadata": {
        "colab": {
          "base_uri": "https://localhost:8080/"
        },
        "id": "P-X1GN3cnpTh",
        "outputId": "30731a88-cf3a-4c6f-fbba-9909c572e28c"
      },
      "execution_count": 17,
      "outputs": [
        {
          "output_type": "stream",
          "name": "stdout",
          "text": [
            "Tableau 3x3 reshaped :\n",
            " [[1 2 3]\n",
            " [4 5 6]\n",
            " [7 8 9]]\n"
          ]
        }
      ]
    },
    {
      "cell_type": "code",
      "source": [
        "#question 33\n",
        "# Créer un vecteur unidimensionnel\n",
        "vecteur = np.array([1, 2, 3])\n",
        "\n",
        "# Reshaper en un vecteur à deux dimensions (1 ligne, 3 colonnes)\n",
        "vecteur_reshaped_1x3 = vecteur.reshape(1, 3)\n",
        "\n",
        "# Afficher le vecteur reshaped\n",
        "print(\"Vecteur reshaped (1x3) :\\n\", vecteur_reshaped_1x3)\n",
        "\n",
        "#question 34\n",
        "# Reshaper en un vecteur à deux dimensions (3 lignes, 1 colonne)\n",
        "vecteur_colonne= vecteur.reshape(3, 1)\n",
        "\n",
        "# Afficher le vecteur reshaped\n",
        "print(\"Vecteur colonne :\\n\", vecteur_colonne)\n"
      ],
      "metadata": {
        "colab": {
          "base_uri": "https://localhost:8080/"
        },
        "id": "EqRB4D4ioi4D",
        "outputId": "f19a34be-3261-49aa-fa59-74ab7be8c01e"
      },
      "execution_count": 22,
      "outputs": [
        {
          "output_type": "stream",
          "name": "stdout",
          "text": [
            "Vecteur reshaped (1x3) :\n",
            " [[1 2 3]]\n",
            "Vecteur colonne :\n",
            " [[1]\n",
            " [2]\n",
            " [3]]\n"
          ]
        }
      ]
    },
    {
      "cell_type": "code",
      "source": [
        "# Créer deux tableaux\n",
        "array1 = np.array([1, 2, 3])\n",
        "array2 = np.array([4, 5, 6])\n",
        "\n",
        "#### Concaténer les deux tableaux en un seul tableau\n",
        "concatenated_array = np.concatenate((array1, array2))\n",
        "\n",
        "# Afficher le tableau concaténé\n",
        "print(\"Tableau concaténé :\\n\", concatenated_array)\n",
        "\n",
        "####Concaténer les deux tableaux verticalement\n",
        "vertical_stack = np.vstack((array1, array2))\n",
        "\n",
        "# Afficher le résultat de la concaténation verticale\n",
        "print(\"Concaténation verticale :\\n\", vertical_stack)\n",
        "\n",
        "#### Reshape les tableaux pour qu'ils aient une dimension supplémentaire\n",
        "array1_reshaped = array1.reshape(-1, 1)\n",
        "array2_reshaped = array2.reshape(-1, 1)\n",
        "\n",
        "# Concaténer les deux tableaux horizontalement\n",
        "horizontal_stack = np.hstack((array1_reshaped, array2_reshaped))\n",
        "\n",
        "# Afficher le résultat de la concaténation horizontale\n",
        "print(\"Concaténation horizontale :\\n\", horizontal_stack)\n",
        "\n"
      ],
      "metadata": {
        "colab": {
          "base_uri": "https://localhost:8080/"
        },
        "id": "nnbvQrvAqYWx",
        "outputId": "ea95097c-a77d-432d-c898-8700b5a4e2f9"
      },
      "execution_count": 24,
      "outputs": [
        {
          "output_type": "stream",
          "name": "stdout",
          "text": [
            "Tableau concaténé :\n",
            " [1 2 3 4 5 6]\n",
            "Concaténation verticale :\n",
            " [[1 2 3]\n",
            " [4 5 6]]\n",
            "Concaténation horizontale :\n",
            " [[1 4]\n",
            " [2 5]\n",
            " [3 6]]\n"
          ]
        }
      ]
    },
    {
      "cell_type": "code",
      "source": [
        "#36\n",
        "\n",
        "\n",
        "####Créer deux tableaux bidimensionnels\n",
        "array1 = np.array([[1, 2, 3], [4, 5, 6]])\n",
        "array2 = np.array([[7, 8, 9], [10, 11, 12]])\n",
        "\n",
        "# Concaténer les deux tableaux bidimensionnels le long de la première dimension\n",
        "concatenated_array_axis0 = np.concatenate((array1, array2), axis=0)\n",
        "\n",
        "# Concaténer les deux tableaux bidimensionnels le long de la deuxième dimension\n",
        "concatenated_array_axis1 = np.concatenate((array1, array2), axis=1)\n",
        "\n",
        "# Afficher les résultats\n",
        "print(\"Concaténation le long de la première dimension (axis=0) :\\n\", concatenated_array_axis0)\n",
        "print(\"\\nConcaténation le long de la deuxième dimension (axis=1) :\\n\", concatenated_array_axis1)"
      ],
      "metadata": {
        "colab": {
          "base_uri": "https://localhost:8080/"
        },
        "id": "eJL9xOMns1v0",
        "outputId": "a1724b60-6e5b-41ae-b18d-7de430c57ea9"
      },
      "execution_count": 31,
      "outputs": [
        {
          "output_type": "stream",
          "name": "stdout",
          "text": [
            "Concaténation le long de la première dimension (axis=0) :\n",
            " [[ 1  2  3]\n",
            " [ 4  5  6]\n",
            " [ 7  8  9]\n",
            " [10 11 12]]\n",
            "\n",
            "Concaténation le long de la deuxième dimension (axis=1) :\n",
            " [[ 1  2  3  7  8  9]\n",
            " [ 4  5  6 10 11 12]]\n"
          ]
        }
      ]
    },
    {
      "cell_type": "code",
      "source": [
        "#37\n",
        "# Créer deux tableaux bidimensionnels\n",
        "array1 = np.array([[1, 2, 3], [4, 5, 6]])\n",
        "array2 = np.array([[7, 8, 9], [10, 11, 12]])\n",
        "#Methode1\n",
        "# Concaténer les deux tableaux bidimensionnels selon les colonnes\n",
        "concatenated_columns = np.concatenate((array1, array2), axis=1)\n",
        "\n",
        "# Afficher le résultat\n",
        "print(\"Concaténation selon les colonnes (axis=1) :\\n\", concatenated_columns)\n",
        "\n",
        "#Methode2\n",
        "# Concaténer les deux tableaux bidimensionnels horizontalement (selon les colonnes)\n",
        "horizontal_stack = np.hstack((array1, array2))\n",
        "\n",
        "# Afficher le résultat\n",
        "print(\"Concaténation horizontale (selon les colonnes) :\\n\", horizontal_stack)\n",
        "\n"
      ],
      "metadata": {
        "colab": {
          "base_uri": "https://localhost:8080/"
        },
        "id": "PJFQJ_Y6uVup",
        "outputId": "02d12d6a-5179-4c9b-83be-15b2c3070a8b"
      },
      "execution_count": 28,
      "outputs": [
        {
          "output_type": "stream",
          "name": "stdout",
          "text": [
            "Concaténation selon les colonnes (axis=1) :\n",
            " [[ 1  2  3  7  8  9]\n",
            " [ 4  5  6 10 11 12]]\n",
            "Concaténation horizontale (selon les colonnes) :\n",
            " [[ 1  2  3  7  8  9]\n",
            " [ 4  5  6 10 11 12]]\n"
          ]
        }
      ]
    },
    {
      "cell_type": "code",
      "source": [
        "#38\n",
        "####Concaténer les deux tableaux bidimensionnels verticalement\n",
        "vertical_stack = np.vstack((array1, array2))\n",
        "\n",
        "# Afficher le résultat de la concaténation verticale\n",
        "print(\"\\nConcaténation verticale :\\n\", vertical_stack)"
      ],
      "metadata": {
        "colab": {
          "base_uri": "https://localhost:8080/"
        },
        "id": "_yoWcZ6yvOfG",
        "outputId": "bbaf7d7b-a4f3-4b04-cc9d-6b503c92de1a"
      },
      "execution_count": 29,
      "outputs": [
        {
          "output_type": "stream",
          "name": "stdout",
          "text": [
            "\n",
            "Concaténation verticale :\n",
            " [[ 1  2  3]\n",
            " [ 4  5  6]\n",
            " [ 7  8  9]\n",
            " [10 11 12]]\n"
          ]
        }
      ]
    },
    {
      "cell_type": "code",
      "source": [
        "#39\n",
        "##### Concaténer les deux tableaux bidimensionnels horizontalement\n",
        "horizontal_stack = np.hstack((array1, array2))\n",
        "\n",
        "# Afficher le résultat de la concaténation horizontale\n",
        "print(\"\\nConcaténation horizontale :\\n\", horizontal_stack)"
      ],
      "metadata": {
        "colab": {
          "base_uri": "https://localhost:8080/"
        },
        "id": "rbZWPeagwznG",
        "outputId": "e0096366-abd1-4c8a-d550-f69d66064ac9"
      },
      "execution_count": 30,
      "outputs": [
        {
          "output_type": "stream",
          "name": "stdout",
          "text": [
            "\n",
            "Concaténation horizontale :\n",
            " [[ 1  2  3  7  8  9]\n",
            " [ 4  5  6 10 11 12]]\n"
          ]
        }
      ]
    }
  ]
}