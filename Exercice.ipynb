{
  "nbformat": 4,
  "nbformat_minor": 0,
  "metadata": {
    "colab": {
      "provenance": []
    },
    "kernelspec": {
      "name": "python3",
      "display_name": "Python 3"
    },
    "language_info": {
      "name": "python"
    }
  },
  "cells": [
    {
      "cell_type": "code",
      "source": [
        "def extract_elements(lst, criteria_func):\n",
        "\n",
        "    extracted = [item for item in lst if criteria_func(item)]\n",
        "    return extracted\n",
        "\n",
        "def is_even(number):\n",
        "    return number % 2 == 0\n",
        "\n",
        "\n",
        "\n",
        "# Liste d'exemple\n",
        "numbers = [1, 2, 3, 4, 5, 6, 7, 8, 9, 10]\n",
        "# Appel de la fonction pour extraire les nombres pairs\n",
        "even_numbers = extract_elements(numbers, is_even)\n",
        "print(even_numbers)\n"
      ],
      "metadata": {
        "colab": {
          "base_uri": "https://localhost:8080/"
        },
        "id": "YPahZ0gA0Efg",
        "outputId": "482726f5-7682-487a-a030-7b9ee022640e"
      },
      "execution_count": null,
      "outputs": [
        {
          "output_type": "stream",
          "name": "stdout",
          "text": [
            "[2, 4, 6, 8, 10]\n"
          ]
        }
      ]
    },
    {
      "cell_type": "code",
      "source": [
        "def load_forbidden_symbols(filename):\n",
        "\n",
        "    forbidden_symbols = set()\n",
        "    with open(filename, 'r') as file:\n",
        "        for line in file:\n",
        "            line = line.strip()\n",
        "            forbidden_symbols.add(line)\n",
        "    return forbidden_symbols\n",
        "\n",
        "def clean_array(input_array, forbidden_symbols):\n",
        "\n",
        "    cleaned_array = []\n",
        "    for item in input_array:\n",
        "        cleaned_item = ''.join([char for char in item if char not in forbidden_symbols])\n",
        "        if cleaned_item:  # Si l'élément nettoyé n'est pas vide\n",
        "            cleaned_array.append(cleaned_item)\n",
        "    return cleaned_array\n",
        "\n",
        "# Charge les symboles interdits depuis le fichier\n",
        "forbidden_symbols = load_forbidden_symbols('forbidden_symbols.txt')\n",
        "\n",
        "# Tableau d'exemple\n",
        "input_array = [\"Hello\", \"World!\", \"This\", \"is\", \"an\", \"example\", \"array\", \"with\", \"symbols\", \"@\", \"to\", \"remove\", \"!\"]\n",
        "\n",
        "# Nettoie le tableau en supprimant les symboles interdits\n",
        "cleaned_array = clean_array(input_array, forbidden_symbols)\n",
        "\n",
        "print(cleaned_array)\n"
      ],
      "metadata": {
        "colab": {
          "base_uri": "https://localhost:8080/"
        },
        "id": "OZpIeyS00qBf",
        "outputId": "1f84d6e1-58b6-4df0-f8f7-0c325b845d58"
      },
      "execution_count": 17,
      "outputs": [
        {
          "output_type": "stream",
          "name": "stdout",
          "text": [
            "['Hello', 'World', 'This', 'is', 'an', 'example', 'array', 'with', 'symbols', 'to', 'remove']\n"
          ]
        }
      ]
    }
  ]
}